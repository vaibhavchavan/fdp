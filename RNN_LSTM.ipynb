{
 "cells": [
  {
   "cell_type": "code",
   "execution_count": 1,
   "id": "282df824",
   "metadata": {},
   "outputs": [],
   "source": [
    "from pandas import read_csv\n",
    "import numpy as np\n",
    "from keras.models import Sequential\n",
    "from keras.layers import Dense, SimpleRNN\n",
    "from sklearn.preprocessing import MinMaxScaler\n",
    "from sklearn.metrics import mean_squared_error\n",
    "import math\n",
    "import matplotlib.pyplot as plt"
   ]
  },
  {
   "cell_type": "code",
   "execution_count": 2,
   "id": "c2ece662",
   "metadata": {},
   "outputs": [],
   "source": [
    "def create_RNN(hidden_units, dense_units, input_shape, activation):\n",
    "    model = Sequential()\n",
    "    model.add(SimpleRNN(hidden_units, input_shape=input_shape, \n",
    "                        activation=activation[0]))\n",
    "    model.add(Dense(units=dense_units, activation=activation[1]))\n",
    "    model.compile(loss='mean_squared_error', optimizer='adam')\n",
    "    return model\n",
    "\n",
    "demo_model = create_RNN(2, 1, (3,1), activation=['linear', 'linear'])"
   ]
  },
  {
   "cell_type": "code",
   "execution_count": 3,
   "id": "a5b7a4ce",
   "metadata": {},
   "outputs": [
    {
     "name": "stdout",
     "output_type": "stream",
     "text": [
      "wx =  [[-0.46328455  0.61715806]]  wh =  [[-0.98379874  0.17927685]\n",
      " [ 0.17927685  0.9837987 ]]  bh =  [0. 0.]  wy = [[-0.7501367 ]\n",
      " [-0.22859478]] by =  [0.]\n"
     ]
    }
   ],
   "source": [
    "wx = demo_model.get_weights()[0]\n",
    "wh = demo_model.get_weights()[1]\n",
    "bh = demo_model.get_weights()[2]\n",
    "wy = demo_model.get_weights()[3]\n",
    "by = demo_model.get_weights()[4]\n",
    "\n",
    "print('wx = ', wx, ' wh = ', wh, ' bh = ', bh, ' wy =', wy, 'by = ', by)"
   ]
  },
  {
   "cell_type": "raw",
   "id": "a0f6d216",
   "metadata": {},
   "source": [
    "# A recurrent neural network (RNN) is the type of artificial neural network (ANN) that is used in Apple’s Siri and Google’s voice search. RNN remembers past inputs due to an internal memory which is useful for predicting stock prices, generating text, transcriptions, and machine translation."
   ]
  },
  {
   "cell_type": "raw",
   "id": "4a753a28",
   "metadata": {},
   "source": [
    "A recurrent neural network (RNN) is the type of artificial neural network (ANN) that is used in Apple’s Siri and Google’s voice search. RNN remembers past inputs due to an internal memory which is useful for predicting stock prices, generating text, transcriptions, and machine translation."
   ]
  },
  {
   "cell_type": "raw",
   "id": "bd3cd214",
   "metadata": {},
   "source": [
    "# Long Short Term Memory (LSTM)\n",
    "\n",
    "The Long Short Term Memory (LSTM) is the advanced type of RNN, which was designed to prevent both decaying and exploding gradient problems. Just like RNN, LSTM has repeating modules, but the structure is different. Instead of having a single layer of tanh, LSTM has four interacting layers that communicate with each other. This four-layered structure helps LSTM retain long-term memory and can be used in several sequential problems including machine translation, speech synthesis, speech recognition, and handwriting recognition."
   ]
  },
  {
   "cell_type": "raw",
   "id": "996521ef",
   "metadata": {},
   "source": [
    "Gated Recurrent Unit (GRU)\n",
    "\n",
    "The gated recurrent unit (GRU) is a variation of LSTM as both have design similarities, and in some cases, they produce similar results. GRU uses an update gate and reset gate to solve the vanishing gradient problem. These gates decide what information is important and pass it to the output. The gates can be trained to store information from long ago, without vanishing over time or removing irrelevant information."
   ]
  },
  {
   "cell_type": "code",
   "execution_count": 4,
   "id": "d4d8e247",
   "metadata": {},
   "outputs": [],
   "source": [
    "# Importing the libraries\n",
    "import numpy as np\n",
    "import pandas as pd\n",
    "import matplotlib.pyplot as plt\n",
    "\n",
    "from sklearn.preprocessing import MinMaxScaler\n",
    "from sklearn.metrics import mean_squared_error\n",
    "\n",
    "from tensorflow.keras.models import Sequential\n",
    "from tensorflow.keras.layers import Dense, LSTM, Dropout, GRU, Bidirectional\n",
    "from tensorflow.keras.optimizers import SGD\n",
    "from tensorflow.random import set_seed\n",
    "\n",
    "set_seed(455)\n",
    "np.random.seed(455)\n"
   ]
  },
  {
   "cell_type": "code",
   "execution_count": 5,
   "id": "62d08a3a",
   "metadata": {},
   "outputs": [
    {
     "name": "stdout",
     "output_type": "stream",
     "text": [
      "                Open      High       Low     Close     Volume\n",
      "Date                                                         \n",
      "2006-05-25  3.748967  4.283869  3.739664  4.279217  395343000\n",
      "2006-05-26  4.307126  4.348058  4.103398  4.179680  103044000\n",
      "2006-05-30  4.183400  4.184330  3.986184  4.093164   49898000\n",
      "2006-05-31  4.125723  4.219679  4.125723  4.180608   30002000\n",
      "2006-06-01  4.179678  4.474572  4.176887  4.419686   62344000\n"
     ]
    }
   ],
   "source": [
    "dataset = pd.read_csv(\"data/Mastercard_stock_history.csv\", index_col=\"Date\", parse_dates=[\"Date\"]\n",
    ").drop([\"Dividends\", \"Stock Splits\"], axis=1)\n",
    "print(dataset.head())\n",
    "              \n"
   ]
  },
  {
   "cell_type": "code",
   "execution_count": 6,
   "id": "d5b42bac",
   "metadata": {},
   "outputs": [
    {
     "name": "stdout",
     "output_type": "stream",
     "text": [
      "              Open         High          Low        Close        Volume\n",
      "count  3872.000000  3872.000000  3872.000000  3872.000000  3.872000e+03\n",
      "mean    104.896814   105.956054   103.769349   104.882714  1.232250e+07\n",
      "std     106.245511   107.303589   105.050064   106.168693  1.759665e+07\n",
      "min       3.748967     4.102467     3.739664     4.083861  6.411000e+05\n",
      "25%      22.347203    22.637997    22.034458    22.300391  3.529475e+06\n",
      "50%      70.810079    71.375896    70.224002    70.856083  5.891750e+06\n",
      "75%     147.688448   148.645373   146.822013   147.688438  1.319775e+07\n",
      "max     392.653890   400.521479   389.747812   394.685730  3.953430e+08\n"
     ]
    }
   ],
   "source": [
    "print(dataset.describe())\n",
    "           \n"
   ]
  },
  {
   "cell_type": "code",
   "execution_count": 7,
   "id": "d1a2af74",
   "metadata": {},
   "outputs": [
    {
     "data": {
      "text/plain": [
       "Open      0\n",
       "High      0\n",
       "Low       0\n",
       "Close     0\n",
       "Volume    0\n",
       "dtype: int64"
      ]
     },
     "execution_count": 7,
     "metadata": {},
     "output_type": "execute_result"
    }
   ],
   "source": [
    "dataset.isna().sum()"
   ]
  },
  {
   "cell_type": "code",
   "execution_count": 8,
   "id": "9ee48cf2",
   "metadata": {},
   "outputs": [
    {
     "data": {
      "image/png": "[encoded data removed]",
      "text/plain": [
       "<Figure size 1600x400 with 1 Axes>"
      ]
     },
     "metadata": {},
     "output_type": "display_data"
    }
   ],
   "source": [
    "tstart = 2016\n",
    "tend = 2020\n",
    "\n",
    "def train_test_plot(dataset, tstart, tend):\n",
    "    dataset.loc[f\"{tstart}\":f\"{tend}\", \"High\"].plot(figsize=(16, 4), legend=True)\n",
    "    dataset.loc[f\"{tend+1}\":, \"High\"].plot(figsize=(16, 4), legend=True)\n",
    "    plt.legend([f\"Train (Before {tend+1})\", f\"Test ({tend+1} and beyond)\"])\n",
    "    plt.title(\"MasterCard stock price\")\n",
    "    plt.show()\n",
    "\n",
    "train_test_plot(dataset,tstart,tend)\n"
   ]
  },
  {
   "cell_type": "code",
   "execution_count": 9,
   "id": "b07932ca",
   "metadata": {},
   "outputs": [],
   "source": [
    "def train_test_split(dataset, tstart, tend):\n",
    "    train = dataset.loc[f\"{tstart}\":f\"{tend}\", \"High\"].values\n",
    "    test = dataset.loc[f\"{tend+1}\":, \"High\"].values\n",
    "    return train, test\n",
    "training_set, test_set = train_test_split(dataset, tstart, tend)\n"
   ]
  },
  {
   "cell_type": "code",
   "execution_count": 10,
   "id": "3c8eb13b",
   "metadata": {},
   "outputs": [],
   "source": [
    "sc = MinMaxScaler(feature_range=(0, 1))\n",
    "training_set = training_set.reshape(-1, 1)\n",
    "training_set_scaled = sc.fit_transform(training_set)\n"
   ]
  },
  {
   "cell_type": "code",
   "execution_count": 11,
   "id": "7bc98873",
   "metadata": {},
   "outputs": [],
   "source": [
    "def split_sequence(sequence, n_steps):\n",
    "    X, y = list(), list()\n",
    "    for i in range(len(sequence)):\n",
    "        end_ix = i + n_steps\n",
    "        if end_ix > len(sequence) - 1:\n",
    "            break\n",
    "        seq_x, seq_y = sequence[i:end_ix], sequence[end_ix]\n",
    "        X.append(seq_x)\n",
    "        y.append(seq_y)\n",
    "    return np.array(X), np.array(y)\n",
    "\n",
    "\n",
    "n_steps = 60\n",
    "features = 1\n",
    "# split into samples\n",
    "X_train, y_train = split_sequence(training_set_scaled, n_steps)\n"
   ]
  },
  {
   "cell_type": "code",
   "execution_count": 12,
   "id": "04622248",
   "metadata": {},
   "outputs": [],
   "source": [
    "# Reshaping X_train for model\n",
    "X_train = X_train.reshape(X_train.shape[0],X_train.shape[1],features)\n"
   ]
  },
  {
   "cell_type": "code",
   "execution_count": 13,
   "id": "8caf8421",
   "metadata": {},
   "outputs": [
    {
     "name": "stdout",
     "output_type": "stream",
     "text": [
      "Model: \"sequential_1\"\n",
      "_________________________________________________________________\n",
      " Layer (type)                Output Shape              Param #   \n",
      "=================================================================\n",
      " lstm (LSTM)                 (None, 125)               63500     \n",
      "                                                                 \n",
      " dense_1 (Dense)             (None, 1)                 126       \n",
      "                                                                 \n",
      "=================================================================\n",
      "Total params: 63,626\n",
      "Trainable params: 63,626\n",
      "Non-trainable params: 0\n",
      "_________________________________________________________________\n"
     ]
    }
   ],
   "source": [
    "# The LSTM architecture\n",
    "model_lstm = Sequential()\n",
    "model_lstm.add(LSTM(units=125, activation=\"tanh\", input_shape=(n_steps, features)))\n",
    "model_lstm.add(Dense(units=1))\n",
    "# Compiling the model\n",
    "model_lstm.compile(optimizer=\"RMSprop\", loss=\"mse\")\n",
    "\n",
    "model_lstm.summary()\n"
   ]
  },
  {
   "cell_type": "code",
   "execution_count": null,
   "id": "82594ab3",
   "metadata": {},
   "outputs": [
    {
     "name": "stdout",
     "output_type": "stream",
     "text": [
      "Epoch 1/50\n",
      "38/38 [==============================] - 14s 87ms/step - loss: 0.0111\n",
      "Epoch 2/50\n",
      "38/38 [==============================] - 4s 98ms/step - loss: 0.0023\n",
      "Epoch 3/50\n",
      "38/38 [==============================] - 4s 96ms/step - loss: 0.0020\n",
      "Epoch 4/50\n",
      "38/38 [==============================] - 4s 97ms/step - loss: 0.0018\n",
      "Epoch 5/50\n",
      "38/38 [==============================] - 4s 92ms/step - loss: 0.0014\n",
      "Epoch 6/50\n",
      "38/38 [==============================] - 3s 90ms/step - loss: 0.0015\n",
      "Epoch 7/50\n",
      "38/38 [==============================] - 4s 94ms/step - loss: 9.2495e-04\n",
      "Epoch 8/50\n",
      "38/38 [==============================] - 3s 89ms/step - loss: 0.0012\n",
      "Epoch 9/50\n",
      "38/38 [==============================] - 3s 89ms/step - loss: 9.7530e-04\n",
      "Epoch 10/50\n",
      "38/38 [==============================] - 3s 89ms/step - loss: 0.0010\n",
      "Epoch 11/50\n",
      "38/38 [==============================] - 3s 87ms/step - loss: 7.8604e-04\n",
      "Epoch 12/50\n",
      "38/38 [==============================] - 3s 86ms/step - loss: 8.5407e-04\n",
      "Epoch 13/50\n",
      "38/38 [==============================] - 2s 49ms/step - loss: 8.1124e-04\n",
      "Epoch 14/50\n",
      "38/38 [==============================] - 2s 48ms/step - loss: 7.8600e-04\n",
      "Epoch 15/50\n",
      "38/38 [==============================] - 2s 45ms/step - loss: 7.3524e-04\n",
      "Epoch 16/50\n",
      "38/38 [==============================] - 1s 31ms/step - loss: 7.3467e-04\n",
      "Epoch 17/50\n",
      "38/38 [==============================] - 1s 25ms/step - loss: 7.0190e-04\n",
      "Epoch 18/50\n",
      "38/38 [==============================] - 1s 25ms/step - loss: 6.3169e-04\n",
      "Epoch 19/50\n",
      "38/38 [==============================] - 1s 25ms/step - loss: 5.8768e-04\n",
      "Epoch 20/50\n",
      "38/38 [==============================] - 1s 25ms/step - loss: 6.4717e-04\n",
      "Epoch 21/50\n",
      "38/38 [==============================] - 1s 25ms/step - loss: 6.4962e-04\n",
      "Epoch 22/50\n",
      "38/38 [==============================] - 1s 25ms/step - loss: 6.3805e-04\n",
      "Epoch 23/50\n",
      "38/38 [==============================] - 1s 28ms/step - loss: 5.2913e-04\n",
      "Epoch 24/50\n",
      "38/38 [==============================] - 1s 32ms/step - loss: 6.8151e-04\n",
      "Epoch 25/50\n",
      "38/38 [==============================] - 1s 33ms/step - loss: 6.2010e-04\n",
      "Epoch 26/50\n",
      "38/38 [==============================] - 1s 33ms/step - loss: 5.6601e-04\n",
      "Epoch 27/50\n",
      "38/38 [==============================] - 1s 33ms/step - loss: 4.4465e-04\n",
      "Epoch 28/50\n",
      "38/38 [==============================] - 1s 34ms/step - loss: 5.3931e-04\n",
      "Epoch 29/50\n",
      "38/38 [==============================] - 1s 33ms/step - loss: 5.1865e-04\n",
      "Epoch 30/50\n",
      "38/38 [==============================] - 1s 34ms/step - loss: 5.4055e-04\n",
      "Epoch 31/50\n",
      "38/38 [==============================] - 1s 34ms/step - loss: 5.0333e-04\n",
      "Epoch 32/50\n",
      "38/38 [==============================] - 1s 35ms/step - loss: 4.7067e-04\n",
      "Epoch 33/50\n",
      "38/38 [==============================] - 1s 34ms/step - loss: 4.8875e-04\n",
      "Epoch 34/50\n",
      "38/38 [==============================] - 1s 33ms/step - loss: 4.7304e-04\n",
      "Epoch 35/50\n",
      "38/38 [==============================] - 1s 34ms/step - loss: 4.6045e-04\n",
      "Epoch 36/50\n",
      "38/38 [==============================] - 1s 35ms/step - loss: 4.5375e-04\n",
      "Epoch 37/50\n",
      "38/38 [==============================] - 1s 35ms/step - loss: 4.8362e-04\n",
      "Epoch 38/50\n",
      "23/38 [=================>............] - ETA: 0s - loss: 4.3990e-04"
     ]
    }
   ],
   "source": [
    "model_lstm.fit(X_train, y_train, epochs=50, batch_size=32)"
   ]
  },
  {
   "cell_type": "code",
   "execution_count": null,
   "id": "c7d8975f",
   "metadata": {},
   "outputs": [],
   "source": [
    "dataset_total = dataset.loc[:,\"High\"]\n",
    "inputs = dataset_total[len(dataset_total) - len(test_set) - n_steps :].values\n",
    "inputs = inputs.reshape(-1, 1)\n",
    "#scaling\n",
    "inputs = sc.transform(inputs)\n",
    "\n",
    "# Split into samples\n",
    "X_test, y_test = split_sequence(inputs, n_steps)\n",
    "# reshape\n",
    "X_test = X_test.reshape(X_test.shape[0], X_test.shape[1], features)\n",
    "#prediction\n",
    "predicted_stock_price = model_lstm.predict(X_test)\n",
    "#inverse transform the values\n",
    "predicted_stock_price = sc.inverse_transform(predicted_stock_price)"
   ]
  },
  {
   "cell_type": "code",
   "execution_count": null,
   "id": "089d0426",
   "metadata": {},
   "outputs": [],
   "source": [
    "def plot_predictions(test, predicted):\n",
    "    plt.plot(test, color=\"gray\", label=\"Real\")\n",
    "    plt.plot(predicted, color=\"red\", label=\"Predicted\")\n",
    "    plt.title(\"MasterCard Stock Price Prediction\")\n",
    "    plt.xlabel(\"Time\")\n",
    "    plt.ylabel(\"MasterCard Stock Price\")\n",
    "    plt.legend()\n",
    "    plt.show()\n",
    "\n",
    "\n",
    "def return_rmse(test, predicted):\n",
    "    rmse = np.sqrt(mean_squared_error(test, predicted))\n",
    "    print(\"The root mean squared error is {:.2f}.\".format(rmse))\n"
   ]
  },
  {
   "cell_type": "code",
   "execution_count": null,
   "id": "4c528ada",
   "metadata": {},
   "outputs": [],
   "source": [
    "plot_predictions(test_set,predicted_stock_price)\n"
   ]
  },
  {
   "cell_type": "code",
   "execution_count": null,
   "id": "f167cf78",
   "metadata": {},
   "outputs": [],
   "source": [
    "return_rmse(test_set,predicted_stock_price)"
   ]
  },
  {
   "cell_type": "code",
   "execution_count": null,
   "id": "2d3e9488",
   "metadata": {},
   "outputs": [],
   "source": [
    "model_gru = Sequential()\n",
    "model_gru.add(GRU(units=125, activation=\"tanh\", input_shape=(n_steps, features)))\n",
    "model_gru.add(Dense(units=1))\n",
    "# Compiling the RNN\n",
    "model_gru.compile(optimizer=\"RMSprop\", loss=\"mse\")\n",
    "\n",
    "model_gru.summary()"
   ]
  },
  {
   "cell_type": "code",
   "execution_count": null,
   "id": "c2e61521",
   "metadata": {},
   "outputs": [],
   "source": [
    "model_gru.fit(X_train, y_train, epochs=50, batch_size=32)"
   ]
  },
  {
   "cell_type": "code",
   "execution_count": null,
   "id": "ca9bf6ff",
   "metadata": {},
   "outputs": [],
   "source": [
    "GRU_predicted_stock_price = model_gru.predict(X_test)\n",
    "GRU_predicted_stock_price = sc.inverse_transform(GRU_predicted_stock_price)\n",
    "plot_predictions(test_set, GRU_predicted_stock_price)"
   ]
  },
  {
   "cell_type": "code",
   "execution_count": null,
   "id": "a825e073",
   "metadata": {},
   "outputs": [],
   "source": [
    "#!pip install tensorflow_datasets\n",
    "#!pip install --upgrade tf_slim\n",
    "!pip install tensorflow_estimator"
   ]
  },
  {
   "cell_type": "code",
   "execution_count": null,
   "id": "0b67b711",
   "metadata": {},
   "outputs": [],
   "source": []
  },
  {
   "cell_type": "code",
   "execution_count": null,
   "id": "d1d320e0",
   "metadata": {},
   "outputs": [],
   "source": []
  }
 ],
 "metadata": {
  "kernelspec": {
   "display_name": "Python 3 (ipykernel)",
   "language": "python",
   "name": "python3"
  },
  "language_info": {
   "codemirror_mode": {
    "name": "ipython",
    "version": 3
   },
   "file_extension": ".py",
   "mimetype": "text/x-python",
   "name": "python",
   "nbconvert_exporter": "python",
   "pygments_lexer": "ipython3",
   "version": "3.11.5"
  }
 },
 "nbformat": 4,
 "nbformat_minor": 5
}
